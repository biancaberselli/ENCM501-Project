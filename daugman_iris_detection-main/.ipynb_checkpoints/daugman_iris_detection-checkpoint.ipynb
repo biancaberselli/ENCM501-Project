{
 "cells": [
  {
   "cell_type": "code",
   "execution_count": 3,
   "metadata": {},
   "outputs": [],
   "source": [
    "import cv2 as cv\n",
    "import numpy as np\n",
    "import matplotlib.pyplot as plt\n",
    "import skimage.io as io\n",
    "import math\n",
    "import os"
   ]
  },
  {
   "cell_type": "markdown",
   "metadata": {},
   "source": [
    "**The reading of the dataset**"
   ]
  },
  {
   "cell_type": "code",
   "execution_count": 5,
   "metadata": {},
   "outputs": [
    {
     "ename": "IndexError",
     "evalue": "list index out of range",
     "output_type": "error",
     "traceback": [
      "\u001b[1;31m---------------------------------------------------------------------------\u001b[0m",
      "\u001b[1;31mIndexError\u001b[0m                                Traceback (most recent call last)",
      "Cell \u001b[1;32mIn[5], line 19\u001b[0m\n\u001b[0;32m     17\u001b[0m dataset_path \u001b[38;5;241m=\u001b[39m \u001b[38;5;124m\"\u001b[39m\u001b[38;5;124mUBIRIS_200_150_R/Sessao_1/\u001b[39m\u001b[38;5;124m\"\u001b[39m\n\u001b[0;32m     18\u001b[0m images \u001b[38;5;241m=\u001b[39m get_first_image_from_subdirectories(dataset_path)\n\u001b[1;32m---> 19\u001b[0m plt\u001b[38;5;241m.\u001b[39mimshow(images[\u001b[38;5;241m1\u001b[39m], cmap\u001b[38;5;241m=\u001b[39m\u001b[38;5;124m'\u001b[39m\u001b[38;5;124mgray\u001b[39m\u001b[38;5;124m'\u001b[39m)\n",
      "\u001b[1;31mIndexError\u001b[0m: list index out of range"
     ]
    }
   ],
   "source": [
    "# Only one example image is taken from each subclass as testing on every example would be time-consuming.\n",
    "def get_first_image_from_subdirectories(root_dir):\n",
    "    # This method fills the \"images\" list by reading the first image from each folder.\n",
    "    images = []\n",
    "    for dirpath, dirnames, filenames in os.walk(root_dir):\n",
    "        for filename in filenames:\n",
    "            if filename.lower().endswith('.jpg'):\n",
    "                img_path = os.path.join(dirpath, filename)\n",
    "                img = io.imread(img_path, as_gray=True)\n",
    "                if img is not None:\n",
    "                    images.append(img)\n",
    "                    break\n",
    "    return images\n",
    "\n",
    "\n",
    "# UBIRIS iris database path\n",
    "dataset_path = \"UBIRIS_200_150_R/Sessao_1/\"\n",
    "images = get_first_image_from_subdirectories(dataset_path)\n",
    "plt.imshow(images[0], cmap='gray')"
   ]
  },
  {
   "cell_type": "markdown",
   "metadata": {},
   "source": [
    "**The definition of operators**"
   ]
  },
  {
   "cell_type": "code",
   "execution_count": null,
   "metadata": {},
   "outputs": [],
   "source": [
    "def daugman_operator(gray_img: np.ndarray, center: tuple,\n",
    "            r_min: int, r_max: int, step: int = 1):\n",
    "    \n",
    "    \"\"\" This function performs the Integrodifferential operator suggested by Dougman and \n",
    "        returns the area and radius of the circular region with the maximum density transition.\n",
    "\n",
    "        gray_img: input grayscale image\n",
    "        center: The center point of the circle is denoted as (x, y).\n",
    "        r_min: The minimum value of the circle radius for iteration.\n",
    "        r_max: The maximum value of the circle radius for iteration.\n",
    "        step: The distance between circles with the same center.\n",
    "    \"\"\"\n",
    "\n",
    "    circle_areas = []\n",
    "    # A mask is created for area calculation.\n",
    "    mask = np.zeros_like(gray_img)\n",
    "    rads = list(range(r_min, r_max, step))\n",
    "\n",
    "    # Area calculation is performed for all radius values based on the center coordinates.\n",
    "    for r in rads:\n",
    "        # Masking should be applied for calculating the area of the circle in the image.\n",
    "        cv.circle(mask, center, r, 255, 1)\n",
    "        circle_img = gray_img & mask\n",
    "        circle_areas.append(np.sum(circle_img) / (2 * math.pi * r))\n",
    "        # The mask is reset/cleared.\n",
    "        mask.fill(0)\n",
    "\n",
    "    circle_areas = np.array(circle_areas, dtype=np.float32)\n",
    "\n",
    "    # The difference (derivative) of the circle areas is calculated.\n",
    "    area_diffs = circle_areas[:-1] - circle_areas[1:]\n",
    "    \n",
    "    # A Gaussian kernel with a size of 1x5 is applied as a low-pass filter.\n",
    "    area_diffs = abs(cv.GaussianBlur(area_diffs, (1, 5), 0))\n",
    "    \n",
    "    # The list index of the object with the maximum derivative value is determined.\n",
    "    idx = np.argmax(area_diffs)\n",
    "\n",
    "    # The derivative value and radius of the circle with the maximum difference transition are returned.\n",
    "    return area_diffs[idx], rads[idx]"
   ]
  },
  {
   "cell_type": "code",
   "execution_count": null,
   "metadata": {},
   "outputs": [],
   "source": [
    "def iris_segmentation(gray_img: np.ndarray, search_region: tuple = ((),()), r_min: int = 35, r_max: int = 60, center_step_size: int = 1):\n",
    "    \n",
    "    \"\"\" This function uses the Daugman Operator to detect the boundaries of the iris and pupil.\n",
    "       \n",
    "        gray_img: input grayscale image\n",
    "        search_region: The search region size of the circle centers is defined by the top-left corner (x0, y0) and bottom-right corner (x1, y1).\n",
    "        r_min: The minimum value of the circle radius for iteration.\n",
    "        r_max: The maximum value of the circle radius for iteration.\n",
    "        center_step_size: The distance between circles with the same center.\n",
    "    \"\"\"\n",
    "  \n",
    "    (x0, y0), (x1, y1) = search_region\n",
    "    x_axis_points = list(range(x0, x1, center_step_size))\n",
    "    y_axis_points = list(range(y0, y1, center_step_size))\n",
    "    \n",
    "    area_list = []\n",
    "    coords = []\n",
    "\n",
    "    for y in y_axis_points:\n",
    "        for x in x_axis_points:\n",
    "            area, rad = daugman_operator(gray_img, (x,y), r_min, r_max, 1)\n",
    "            area_list.append(area)\n",
    "            coords.append(((x,y), rad))\n",
    "\n",
    "    best_iris_id = area_list.index(max(area_list))\n",
    "    return coords[best_iris_id]"
   ]
  },
  {
   "cell_type": "markdown",
   "metadata": {},
   "source": [
    "**The potential scanning area where the center of the eye can be found**"
   ]
  },
  {
   "cell_type": "code",
   "execution_count": null,
   "metadata": {},
   "outputs": [],
   "source": [
    "# It is assumed that each image has the same dimensions.\n",
    "h, w = images[0].shape\n",
    "\n",
    "# The potential search area where the eye center can be found is calculated as one-ninth (1/9) of the image dimensions.\n",
    "start_point = int(w/3), int(h/3)\n",
    "end_point = 2 * int(w/3), 2 * int(h/3)\n",
    "\n",
    "region_img = images[0].copy()\n",
    "cv.rectangle(region_img, start_point, end_point, (0,0,255), thickness=1)\n",
    "plt.imshow(region_img, cmap='gray')"
   ]
  },
  {
   "cell_type": "markdown",
   "metadata": {},
   "source": [
    "**Observation of the results**"
   ]
  },
  {
   "cell_type": "code",
   "execution_count": null,
   "metadata": {},
   "outputs": [],
   "source": [
    "# Results are observed for a total of 241 different images by taking one image from each folder in the SESSAO_1 dataset.\n",
    "\n",
    "total_img = len(images)\n",
    "i_step = 20\n",
    "plot_cols = 5\n",
    "\n",
    "print(\"Processing... \")\n",
    "\n",
    "for step in range(0, total_img, i_step):\n",
    "    fig, axs = plt.subplots(i_step // plot_cols, plot_cols, figsize=(15, 10))\n",
    "    axs = axs.ravel()\n",
    "\n",
    "    for i, image in enumerate(images[step: step + i_step]):\n",
    "        print(f\"{i + step + 1}/{total_img}\", end=\"\\r\")\n",
    "        \n",
    "        result_img = image.copy()\n",
    "        # Based on the experiments, it is observed that the radius boundary of the iris is between 35 and 55 pixels, and a step size of 2 is chosen to accelerate the process.\n",
    "        iris_center, iris_rad = iris_segmentation(result_img, (start_point, end_point), 35, 55, 2)\n",
    "\n",
    "        # The radius boundaries of the pupil are determined to be between 0.2 and 0.5 times the radius of the iris circle, considering the light reflection in the pupil.\n",
    "        pupil_r_min, pupil_r_max = int(iris_rad * 0.2), int(iris_rad * 0.5)\n",
    "        pupil_center, pupil_rad = iris_segmentation(result_img, (start_point, end_point), pupil_r_min, pupil_r_max, 2)\n",
    "\n",
    "        cv.circle(result_img, iris_center, iris_rad, (0, 0, 255), 1)\n",
    "        cv.circle(result_img, pupil_center, pupil_rad, (255, 255, 255), 1)\n",
    "\n",
    "        axs[i].imshow(result_img, cmap='gray')\n",
    "        axs[i].axis('off')\n",
    "        \n",
    "    plt.show()\n",
    "    plt.close()"
   ]
  },
  {
   "cell_type": "markdown",
   "metadata": {},
   "source": [
    "Based on the observations:\n",
    "\n",
    "- In iris segmentation, incorrect results occur in images where the eye is partially or completely closed.\n",
    "- In pupil segmentation, incorrect results are observed due to the impact of light on the pupil. Therefore, the radius range for the pupil is selected as 0.2-0.5 instead of 0.1-0.8."
   ]
  }
 ],
 "metadata": {
  "colab": {
   "provenance": []
  },
  "kernelspec": {
   "display_name": "Python 3 (ipykernel)",
   "language": "python",
   "name": "python3"
  },
  "language_info": {
   "codemirror_mode": {
    "name": "ipython",
    "version": 3
   },
   "file_extension": ".py",
   "mimetype": "text/x-python",
   "name": "python",
   "nbconvert_exporter": "python",
   "pygments_lexer": "ipython3",
   "version": "3.11.5"
  }
 },
 "nbformat": 4,
 "nbformat_minor": 1
}
